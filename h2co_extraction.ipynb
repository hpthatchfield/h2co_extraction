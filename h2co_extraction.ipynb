{
 "cells": [
  {
   "cell_type": "code",
   "execution_count": 1,
   "id": "2db547b2",
   "metadata": {},
   "outputs": [],
   "source": [
    "from astropy.io import fits\n",
    "import numpy as np\n",
    "import matplotlib.pyplot as plt\n",
    "from astropy import units as u\n",
    "import os\n",
    "from astropy import wcs\n",
    "from astropy.table import Table, hstack, Column\n",
    "\n"
   ]
  },
  {
   "cell_type": "code",
   "execution_count": 5,
   "id": "fc31036d",
   "metadata": {},
   "outputs": [
    {
     "name": "stdout",
     "output_type": "stream",
     "text": [
      "['index', 'area_ellipse', 'area_exact', 'flux_integrated', 'major_sigma', 'minor_sigma', 'position_angle', 'radius', 'glon', 'glat', 'r_eff', 'flux_integrated_bgsub', 'min_flux_integrated', 'noise', 'peak_cont_flux', 'min_cont_flux', 'mean_cont_flux', 'npix', 'DustTemperature', 'herschel_column', 'mass', 'sma_column', 'r_eff_pc', 'Sigma', 'n', 'rho', 'tff', 'glon_0', 'mass_bgsub', 'suspicious', 'leaf_ID', 'mask_num', 'mass_unc', 'N_unc', 'n_unc', 'rho_unc', 'tff_unc', 'mass_bgsub_unc', 'atoll_final_say', 'SF_final_say', '8um_point_hph', '20-24um_point_hph', '70um_point_hph', 'YSO_hph', 'Walsh+2014_h2o_maser_hph', 'Caswell+2012_methanol_maser_hph', 'Gutermuth+2015_24um_point_hph', 'Molinari+2016_70um_point_hph', 'SF_any_all_hph', 'SF_any_certain_hph', '8um_point_brian', '20-24um_point_brian', '70um_point_brian', 'YSO_brian', 'Walsh+2014_h2o_maser_brian', 'Caswell+2012_methanol_maser_brian', 'Gutermuth+2015_24um_point_brian', 'Molinari+2016_70um_point_brian', 'SF_any_all_brian', 'SF_any_certain_brian', '8um_point_dan', '20-24um_point_dan', '70um_point_dan', 'YSO_dan', 'Walsh+2014_h2o_maser_dan', 'Caswell+2012_methanol_maser_dan', 'Gutermuth+2015_24um_point_dan', 'Molinari+2016_70um_point_dan', 'SF_any_all_dan', 'SF_any_certain_dan', '8um_point_natalie', '20-24um_point_natalie', '70um_point_natalie', 'YSO_natalie', 'Walsh+2014_h2o_maser_natalie', 'Caswell+2012_methanol_maser_natalie', 'Gutermuth+2015_24um_point_natalie', 'Molinari+2016_70um_point_natalie', 'SF_any_all_natalie', 'SF_any_certain_natalie', '8um_point_steve', '20-24um_point_steve', '70um_point_steve', 'YSO_steve', 'Walsh+2014_h2o_maser_steve', 'Caswell+2012_methanol_maser_steve', 'Gutermuth+2015_24um_point_steve', 'Molinari+2016_70um_point_steve', 'SF_any_all_steve', 'SF_any_certain_steve', '8um_point_walker', '20-24um_point_walker', '70um_point_walker', 'YSO_walker', 'Walsh+2014_h2o_maser_walker', 'Caswell+2012_methanol_maser_walker', 'Gutermuth+2015_24um_point_walker', 'Molinari+2016_70um_point_walker', 'SF_any_all_walker', 'SF_any_certain_walker', '8um_point_cara', '20-24um_point_cara', '70um_point_cara', 'YSO_cara', 'Walsh+2014_h2o_maser_cara', 'Caswell+2012_methanol_maser_cara', 'Gutermuth+2015_24um_point_cara', 'Molinari+2016_70um_point_cara', 'SF_any_all_cara', 'SF_any_certain_cara']\n"
     ]
    }
   ],
   "source": [
    "catalog = Table.read('/Users/hph/Dropbox/astrophys/summer_students/CH2O_CMZoom/megacatalog_team_acc_final_say.fits')\n",
    "print(catalog.keys())\n",
    "cont_mosaic_hdu = fits.open('/Users/hph/Dropbox/astrophys/CMZoom/cmzoom_catalog/catalog_acc/CMZoom_continuum_pbcor.fits')\n",
    "cat_mask = fits.getdata('/Users/hph/Dropbox/astrophys/CMZoom/cmzoom_catalog/catalog_acc/dendrogram_mask_pruned_rms3e6_k14_dv3_dd1_dp17_pp6_pm2_gal_02-02-20.fits')"
   ]
  },
  {
   "cell_type": "code",
   "execution_count": 29,
   "id": "63c6bcc7",
   "metadata": {},
   "outputs": [
    {
     "ename": "ValueError",
     "evalue": "maximum supported dimension for an ndarray is 32, found 285",
     "output_type": "error",
     "traceback": [
      "\u001b[0;31m---------------------------------------------------------------------------\u001b[0m",
      "\u001b[0;31mValueError\u001b[0m                                Traceback (most recent call last)",
      "Cell \u001b[0;32mIn[29], line 2\u001b[0m\n\u001b[1;32m      1\u001b[0m \u001b[38;5;66;03m#### for each leaf, identify peak continuum flux pixel\u001b[39;00m\n\u001b[0;32m----> 2\u001b[0m lpp_x \u001b[38;5;241m=\u001b[39m \u001b[43mnp\u001b[49m\u001b[38;5;241;43m.\u001b[39;49m\u001b[43mzeros\u001b[49m\u001b[43m(\u001b[49m\u001b[43mcatalog\u001b[49m\u001b[43m[\u001b[49m\u001b[38;5;124;43m'\u001b[39;49m\u001b[38;5;124;43mleaf_ID\u001b[39;49m\u001b[38;5;124;43m'\u001b[39;49m\u001b[43m]\u001b[49m\u001b[43m)\u001b[49m\n\u001b[1;32m      3\u001b[0m lpp_y \u001b[38;5;241m=\u001b[39m np\u001b[38;5;241m.\u001b[39mzeros(catalog[\u001b[38;5;124m'\u001b[39m\u001b[38;5;124mleaf_ID\u001b[39m\u001b[38;5;124m'\u001b[39m])\n\u001b[1;32m      4\u001b[0m lpp_l \u001b[38;5;241m=\u001b[39m np\u001b[38;5;241m.\u001b[39mzeros(catalog[\u001b[38;5;124m'\u001b[39m\u001b[38;5;124mleaf_ID\u001b[39m\u001b[38;5;124m'\u001b[39m])\n",
      "\u001b[0;31mValueError\u001b[0m: maximum supported dimension for an ndarray is 32, found 285"
     ]
    }
   ],
   "source": [
    "#### for each leaf, identify peak continuum flux pixel\n",
    "lpp_x = np.zeros(catalog['leaf_ID'])\n",
    "lpp_y = np.zeros(catalog['leaf_ID'])\n",
    "lpp_l = np.zeros(catalog['leaf_ID'])\n",
    "lpp_b = np.zeros(catalog['leaf_ID'])\n",
    "for i, leafi in enumerate(catalog['index']):\n",
    "    leafpixi = np.where(cat_mask==leafi)\n",
    "    lpp_x = leafpixi[1][np.argmax(cont_mosaic_hdu[0].data[leafpixi])]\n",
    "    lpp_y = leafpixi[0][np.argmax(cont_mosaic_hdu[0].data[leafpixi])]\n",
    "    print(lpp_x, lpp_y)\n",
    "    "
   ]
  },
  {
   "cell_type": "code",
   "execution_count": 28,
   "id": "86969cd2",
   "metadata": {},
   "outputs": [
    {
     "name": "stdout",
     "output_type": "stream",
     "text": [
      "(array([192, 192, 192, 193, 193, 193, 193, 193, 193, 194, 194, 194, 194,\n",
      "       194, 194, 195, 195, 195, 195, 195, 195, 196, 196, 196, 196, 196,\n",
      "       196, 197, 197, 197, 197, 197, 197, 198, 198, 198, 198, 198, 198,\n",
      "       198, 199, 199, 199, 199, 199, 199, 199, 200, 200, 200, 200, 200,\n",
      "       200, 200, 200, 201, 201, 201, 201, 201, 201, 201, 201, 202, 202,\n",
      "       202, 202, 202, 202, 202, 202, 202, 203, 203, 203, 203, 203, 203,\n",
      "       203, 203, 203, 204, 204, 204, 204, 204, 204, 204, 204, 204, 204,\n",
      "       204, 205, 205, 205, 205, 205, 205, 205, 205, 205, 205, 205, 205,\n",
      "       206, 206, 206, 206, 206, 206, 206, 206, 206, 206, 206, 206, 206,\n",
      "       207, 207, 207, 207, 207, 207, 207, 207, 207, 207, 207, 207, 207,\n",
      "       207, 208, 208, 208, 208, 208, 208, 208, 208, 208, 208, 208, 208,\n",
      "       208, 208, 209, 209, 209, 209, 209, 209, 209, 209, 209, 209, 209,\n",
      "       209, 210, 210, 210, 210, 210, 210, 210, 210, 210, 210, 210, 211,\n",
      "       211, 211, 211, 211, 211, 211, 212, 212, 212, 212, 212]), array([15210, 15211, 15212, 15209, 15210, 15211, 15212, 15213, 15214,\n",
      "       15210, 15211, 15212, 15213, 15214, 15215, 15210, 15211, 15212,\n",
      "       15213, 15214, 15215, 15211, 15212, 15213, 15214, 15215, 15216,\n",
      "       15211, 15212, 15213, 15214, 15215, 15216, 15211, 15212, 15213,\n",
      "       15214, 15215, 15216, 15217, 15211, 15212, 15213, 15214, 15215,\n",
      "       15216, 15217, 15210, 15211, 15212, 15213, 15214, 15215, 15216,\n",
      "       15217, 15210, 15211, 15212, 15213, 15214, 15215, 15216, 15217,\n",
      "       15210, 15211, 15212, 15213, 15214, 15215, 15216, 15217, 15218,\n",
      "       15210, 15211, 15212, 15213, 15214, 15215, 15216, 15217, 15218,\n",
      "       15210, 15211, 15212, 15213, 15214, 15215, 15216, 15217, 15218,\n",
      "       15219, 15220, 15211, 15212, 15213, 15214, 15215, 15216, 15217,\n",
      "       15218, 15219, 15220, 15221, 15222, 15212, 15213, 15214, 15215,\n",
      "       15216, 15217, 15218, 15219, 15220, 15221, 15222, 15223, 15224,\n",
      "       15213, 15214, 15215, 15216, 15217, 15218, 15219, 15220, 15221,\n",
      "       15222, 15223, 15224, 15225, 15226, 15215, 15216, 15217, 15218,\n",
      "       15219, 15220, 15221, 15222, 15223, 15224, 15225, 15226, 15227,\n",
      "       15228, 15216, 15217, 15218, 15219, 15220, 15221, 15222, 15223,\n",
      "       15224, 15225, 15226, 15227, 15217, 15218, 15219, 15220, 15221,\n",
      "       15222, 15223, 15224, 15225, 15226, 15227, 15220, 15221, 15222,\n",
      "       15223, 15224, 15225, 15226, 15221, 15222, 15223, 15224, 15225]))\n",
      "59\n",
      "15214 201\n"
     ]
    }
   ],
   "source": [
    "### testing for a single leaf\n",
    "k, leafk = 0, catalog['index'][0]\n",
    "leafpixk = np.where(cat_mask==leafk)\n",
    "print(leafpixk)\n",
    "print(np.argmax(cont_mosaic_hdu[0].data[leafpixk]))\n",
    "kpp_x = leafpixk[1][np.argmax(cont_mosaic_hdu[0].data[leafpixk])]\n",
    "kpp_y = leafpixk[0][np.argmax(cont_mosaic_hdu[0].data[leafpixk])]\n",
    "print(kpp_x, kpp_y)\n"
   ]
  },
  {
   "cell_type": "code",
   "execution_count": null,
   "id": "8d450bf6",
   "metadata": {},
   "outputs": [],
   "source": [
    "#### load in spectral cube\n"
   ]
  },
  {
   "cell_type": "code",
   "execution_count": null,
   "id": "8cffbd04",
   "metadata": {},
   "outputs": [],
   "source": [
    "#### construct wcs from spectral cube\n"
   ]
  },
  {
   "cell_type": "code",
   "execution_count": null,
   "id": "6e52a5fa",
   "metadata": {},
   "outputs": [],
   "source": [
    "#### convert all ca\n"
   ]
  },
  {
   "cell_type": "code",
   "execution_count": null,
   "id": "cdc05335",
   "metadata": {},
   "outputs": [],
   "source": []
  }
 ],
 "metadata": {
  "kernelspec": {
   "display_name": "Python 3 (ipykernel)",
   "language": "python",
   "name": "python3"
  },
  "language_info": {
   "codemirror_mode": {
    "name": "ipython",
    "version": 3
   },
   "file_extension": ".py",
   "mimetype": "text/x-python",
   "name": "python",
   "nbconvert_exporter": "python",
   "pygments_lexer": "ipython3",
   "version": "3.9.16"
  }
 },
 "nbformat": 4,
 "nbformat_minor": 5
}
